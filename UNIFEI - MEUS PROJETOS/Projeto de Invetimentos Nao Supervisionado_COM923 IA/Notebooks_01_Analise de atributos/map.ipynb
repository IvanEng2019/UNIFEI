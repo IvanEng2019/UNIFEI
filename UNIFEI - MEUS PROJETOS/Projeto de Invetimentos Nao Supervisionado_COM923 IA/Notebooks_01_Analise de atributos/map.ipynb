{
 "cells": [
  {
   "cell_type": "code",
   "execution_count": null,
   "id": "99cf7eee-6f93-427c-aa26-29c1a8663a34",
   "metadata": {},
   "outputs": [],
   "source": [
    "market_type = []\n",
    "trade_market = []\n",
    "benchmark = []\n",
    "strategy = []\n",
    "tax = []\n",
    "market = []\n",
    "investor = [\"Público Geral\", \"Institucional\", \"Qualificado\", \"Profissional\", \"Não residente\"]"
   ]
  },
  {
   "cell_type": "markdown",
   "id": "901df334-7991-4a04-a4c2-e56cefda1873",
   "metadata": {},
   "source": [
    "Risco Anbima\n",
    "https://www.anbima.com.br/data/files/23/33/A2/80/F71D3610214DEA36A9A80AC2/Diretriz-de-Suitability-20180622.pdf\n",
    "https://www.anbima.com.br/data/files/6D/36/92/9F/2AC575106582A275862C16A8/DeliberacaoN76_1_.pdf"
   ]
  },
  {
   "cell_type": "code",
   "execution_count": null,
   "id": "5bb8b0d3-0315-4aca-be34-dade50e08392",
   "metadata": {},
   "outputs": [],
   "source": []
  }
 ],
 "metadata": {
  "kernelspec": {
   "display_name": "Python 3 (ipykernel)",
   "language": "python",
   "name": "python3"
  },
  "language_info": {
   "codemirror_mode": {
    "name": "ipython",
    "version": 3
   },
   "file_extension": ".py",
   "mimetype": "text/x-python",
   "name": "python",
   "nbconvert_exporter": "python",
   "pygments_lexer": "ipython3",
   "version": "3.10.2"
  }
 },
 "nbformat": 4,
 "nbformat_minor": 5
}
