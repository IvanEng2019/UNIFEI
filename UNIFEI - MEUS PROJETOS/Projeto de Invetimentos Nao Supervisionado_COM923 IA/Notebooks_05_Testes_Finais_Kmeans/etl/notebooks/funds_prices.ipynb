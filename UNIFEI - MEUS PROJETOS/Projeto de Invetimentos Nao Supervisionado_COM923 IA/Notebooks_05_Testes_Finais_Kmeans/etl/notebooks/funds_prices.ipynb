{
 "cells": [
  {
   "cell_type": "code",
   "execution_count": 1,
   "id": "737ab09a-18dc-4b95-ba87-caf32e8c6af8",
   "metadata": {},
   "outputs": [],
   "source": [
    "import os\n",
    "import re\n",
    "import pandas as pd\n",
    "from datetime import date\n",
    "from dateutil.relativedelta import relativedelta\n",
    "from tqdm.notebook import tqdm as log_progress\n",
    "from pandas_profiling import ProfileReport\n",
    "import plotly.express as px"
   ]
  },
  {
   "cell_type": "markdown",
   "id": "cb553ba5-b306-4dd5-82d2-539d863adc97",
   "metadata": {},
   "source": [
    "## Extração dos preços (valor da cota) do relatório dos fundos (CVM)\n",
    "___"
   ]
  },
  {
   "cell_type": "code",
   "execution_count": 2,
   "id": "3fc9fc76-24b3-4317-a731-f521b33c498a",
   "metadata": {},
   "outputs": [],
   "source": [
    "import warnings\n",
    "warnings.filterwarnings('ignore')\n",
    "\n",
    "BASE_PATH = \"E:\\\\data-science\\\\raw-data\"\n",
    "RES_PATH = \"E:\\\\data-science\\\\datalake\"\n",
    "\n",
    "\n",
    "def extract(path, sep=\";\"):\n",
    "    df = pd.DataFrame()\n",
    "    for file in log_progress(os.listdir(path)):\n",
    "        sm_df = pd.read_csv(f\"{path}\\\\{file}\", sep=sep)\n",
    "        df = pd.concat([df, sm_df])\n",
    "    return df"
   ]
  },
  {
   "cell_type": "code",
   "execution_count": 3,
   "id": "55bfa900-99cd-47a8-91dd-b152d59cdfc5",
   "metadata": {},
   "outputs": [
    {
     "data": {
      "application/vnd.jupyter.widget-view+json": {
       "model_id": "7d5c4788b9a74a1da9d3fb8bdde7d9fe",
       "version_major": 2,
       "version_minor": 0
      },
      "text/plain": [
       "  0%|          | 0/21 [00:00<?, ?it/s]"
      ]
     },
     "metadata": {},
     "output_type": "display_data"
    },
    {
     "name": "stdout",
     "output_type": "stream",
     "text": [
      "Coletados 9602508 preços de fundos\n"
     ]
    }
   ],
   "source": [
    "funds = extract(f\"{BASE_PATH}\\\\cvm\\\\funds-report\\\\ia\")\n",
    "print(f\"Coletados {funds.shape[0]} preços de fundos\")"
   ]
  },
  {
   "cell_type": "code",
   "execution_count": 4,
   "id": "9b1450c9-09d9-49f8-af68-c243d559fcfd",
   "metadata": {},
   "outputs": [],
   "source": [
    "funds[\"DT_COMPTC\"] = pd.to_datetime(funds[\"DT_COMPTC\"])"
   ]
  },
  {
   "cell_type": "code",
   "execution_count": 5,
   "id": "e10dadab-866f-4854-9afc-948f34323692",
   "metadata": {},
   "outputs": [],
   "source": [
    "def keep_numbers(text):\n",
    "    return re.sub(\"[^0-9]\", \"\", text)\n",
    "\n",
    "funds[\"id\"] = funds[\"CNPJ_FUNDO\"].apply(keep_numbers)"
   ]
  },
  {
   "cell_type": "code",
   "execution_count": 6,
   "id": "5ea78ac3-206f-4707-9f0a-aa2a97483401",
   "metadata": {},
   "outputs": [
    {
     "name": "stdout",
     "output_type": "stream",
     "text": [
      "26623 fundos encontrados\n"
     ]
    }
   ],
   "source": [
    "print(f\"{funds['id'].unique().shape[0]} fundos encontrados\")"
   ]
  },
  {
   "cell_type": "code",
   "execution_count": 7,
   "id": "7b6c1b3f-10b3-4cf1-9796-83391c3b89bb",
   "metadata": {},
   "outputs": [
    {
     "data": {
      "text/html": [
       "<div>\n",
       "<style scoped>\n",
       "    .dataframe tbody tr th:only-of-type {\n",
       "        vertical-align: middle;\n",
       "    }\n",
       "\n",
       "    .dataframe tbody tr th {\n",
       "        vertical-align: top;\n",
       "    }\n",
       "\n",
       "    .dataframe thead th {\n",
       "        text-align: right;\n",
       "    }\n",
       "</style>\n",
       "<table border=\"1\" class=\"dataframe\">\n",
       "  <thead>\n",
       "    <tr style=\"text-align: right;\">\n",
       "      <th></th>\n",
       "      <th>id</th>\n",
       "      <th>type</th>\n",
       "      <th>date</th>\n",
       "      <th>close</th>\n",
       "    </tr>\n",
       "  </thead>\n",
       "  <tbody>\n",
       "    <tr>\n",
       "      <th>0</th>\n",
       "      <td>00017024000153</td>\n",
       "      <td>FI</td>\n",
       "      <td>2021-01-04</td>\n",
       "      <td>27.503336</td>\n",
       "    </tr>\n",
       "    <tr>\n",
       "      <th>1</th>\n",
       "      <td>00017024000153</td>\n",
       "      <td>FI</td>\n",
       "      <td>2021-01-05</td>\n",
       "      <td>27.503455</td>\n",
       "    </tr>\n",
       "    <tr>\n",
       "      <th>2</th>\n",
       "      <td>00017024000153</td>\n",
       "      <td>FI</td>\n",
       "      <td>2021-01-06</td>\n",
       "      <td>27.503196</td>\n",
       "    </tr>\n",
       "    <tr>\n",
       "      <th>3</th>\n",
       "      <td>00017024000153</td>\n",
       "      <td>FI</td>\n",
       "      <td>2021-01-07</td>\n",
       "      <td>27.503352</td>\n",
       "    </tr>\n",
       "    <tr>\n",
       "      <th>4</th>\n",
       "      <td>00017024000153</td>\n",
       "      <td>FI</td>\n",
       "      <td>2021-01-08</td>\n",
       "      <td>27.503710</td>\n",
       "    </tr>\n",
       "  </tbody>\n",
       "</table>\n",
       "</div>"
      ],
      "text/plain": [
       "               id type       date      close\n",
       "0  00017024000153   FI 2021-01-04  27.503336\n",
       "1  00017024000153   FI 2021-01-05  27.503455\n",
       "2  00017024000153   FI 2021-01-06  27.503196\n",
       "3  00017024000153   FI 2021-01-07  27.503352\n",
       "4  00017024000153   FI 2021-01-08  27.503710"
      ]
     },
     "execution_count": 7,
     "metadata": {},
     "output_type": "execute_result"
    }
   ],
   "source": [
    "cols = {\n",
    "    \"id\": \"id\",\n",
    "    \"TP_FUNDO\": \"type\",\n",
    "    \"DT_COMPTC\": \"date\",\n",
    "    \"VL_QUOTA\": \"close\"\n",
    "}\n",
    "funds = funds[cols.keys()].rename(columns=cols)\n",
    "funds.head()"
   ]
  },
  {
   "cell_type": "code",
   "execution_count": 8,
   "id": "c1037c39-fe9c-4579-a501-f54708a96484",
   "metadata": {},
   "outputs": [],
   "source": [
    "funds.to_parquet(f\"{RES_PATH}/funds_prices.snappy.parquet\")"
   ]
  },
  {
   "cell_type": "code",
   "execution_count": null,
   "id": "ae835e6b-fcaf-455f-9b86-8cf4362a6ed9",
   "metadata": {},
   "outputs": [],
   "source": []
  },
  {
   "cell_type": "code",
   "execution_count": null,
   "id": "5b165b21-81d3-4328-87c9-55b70d0a8046",
   "metadata": {},
   "outputs": [],
   "source": []
  }
 ],
 "metadata": {
  "kernelspec": {
   "display_name": "data-science",
   "language": "python",
   "name": "data-science"
  },
  "language_info": {
   "codemirror_mode": {
    "name": "ipython",
    "version": 3
   },
   "file_extension": ".py",
   "mimetype": "text/x-python",
   "name": "python",
   "nbconvert_exporter": "python",
   "pygments_lexer": "ipython3",
   "version": "3.8.13"
  }
 },
 "nbformat": 4,
 "nbformat_minor": 5
}
