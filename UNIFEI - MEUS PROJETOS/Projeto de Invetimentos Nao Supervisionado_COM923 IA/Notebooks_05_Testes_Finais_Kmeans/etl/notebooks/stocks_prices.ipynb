{
 "cells": [
  {
   "cell_type": "code",
   "execution_count": 1,
   "id": "2db17f06-f577-4b2f-94a6-7797d94dc46c",
   "metadata": {},
   "outputs": [],
   "source": [
    "import os\n",
    "import re\n",
    "import pandas as pd\n",
    "from datetime import date\n",
    "from dateutil.relativedelta import relativedelta\n",
    "from tqdm.notebook import tqdm as log_progress\n",
    "from pandas_profiling import ProfileReport\n",
    "import plotly.express as px"
   ]
  },
  {
   "cell_type": "markdown",
   "id": "e9d13263-991e-45ff-a95b-5862a847f57c",
   "metadata": {},
   "source": [
    "## Extração do preço de ações da B3 \n",
    "___"
   ]
  },
  {
   "cell_type": "code",
   "execution_count": 2,
   "id": "e775061d-74fe-42a8-9751-b1be93383273",
   "metadata": {},
   "outputs": [],
   "source": [
    "import warnings\n",
    "warnings.filterwarnings('ignore')\n",
    "\n",
    "BASE_PATH = \"E:\\\\data-science\\\\raw-data\"\n",
    "RES_PATH = \"E:\\\\data-science\\\\datalake\"\n",
    "\n",
    "\n",
    "def extract(path, sep=\";\"):\n",
    "    df = pd.DataFrame()\n",
    "    for file in log_progress(os.listdir(path)):\n",
    "        sm_df = pd.read_csv(f\"{path}\\\\{file}\", sep=sep)\n",
    "        df = pd.concat([df, sm_df])\n",
    "    return df"
   ]
  },
  {
   "cell_type": "code",
   "execution_count": 3,
   "id": "c61c837f-9ba7-42bb-824c-67ffc02c6527",
   "metadata": {},
   "outputs": [
    {
     "data": {
      "application/vnd.jupyter.widget-view+json": {
       "model_id": "c0621ef01405468e8fe0d3721302749a",
       "version_major": 2,
       "version_minor": 0
      },
      "text/plain": [
       "  0%|          | 0/2 [00:00<?, ?it/s]"
      ]
     },
     "metadata": {},
     "output_type": "display_data"
    }
   ],
   "source": [
    "b3_prices = extract(f\"{BASE_PATH}\\\\b3\\\\historical-quotes\\\\ia\", sep=\",\")"
   ]
  },
  {
   "cell_type": "code",
   "execution_count": 4,
   "id": "7e0da92b-c4eb-4331-8fe8-5412e44065b6",
   "metadata": {},
   "outputs": [
    {
     "name": "stdout",
     "output_type": "stream",
     "text": [
      "Coletados 3266749 preços da B3\n"
     ]
    }
   ],
   "source": [
    "print(f\"Coletados {b3_prices.shape[0]} preços da B3\")"
   ]
  },
  {
   "cell_type": "code",
   "execution_count": 5,
   "id": "873d987c-1a7d-4080-acf0-a766d586f056",
   "metadata": {},
   "outputs": [
    {
     "data": {
      "text/html": [
       "<div>\n",
       "<style scoped>\n",
       "    .dataframe tbody tr th:only-of-type {\n",
       "        vertical-align: middle;\n",
       "    }\n",
       "\n",
       "    .dataframe tbody tr th {\n",
       "        vertical-align: top;\n",
       "    }\n",
       "\n",
       "    .dataframe thead th {\n",
       "        text-align: right;\n",
       "    }\n",
       "</style>\n",
       "<table border=\"1\" class=\"dataframe\">\n",
       "  <thead>\n",
       "    <tr style=\"text-align: right;\">\n",
       "      <th></th>\n",
       "      <th>register_type</th>\n",
       "      <th>date</th>\n",
       "      <th>name</th>\n",
       "      <th>company</th>\n",
       "      <th>share_type</th>\n",
       "      <th>forward_market_deadline</th>\n",
       "      <th>currency</th>\n",
       "      <th>open_price</th>\n",
       "      <th>max_price</th>\n",
       "      <th>min_price</th>\n",
       "      <th>...</th>\n",
       "      <th>volume</th>\n",
       "      <th>exercise_price</th>\n",
       "      <th>price_correction_indicator</th>\n",
       "      <th>expiration_date</th>\n",
       "      <th>price_factor</th>\n",
       "      <th>exercise_price_points</th>\n",
       "      <th>isin_code</th>\n",
       "      <th>distribution_share_number</th>\n",
       "      <th>type</th>\n",
       "      <th>folder</th>\n",
       "    </tr>\n",
       "  </thead>\n",
       "  <tbody>\n",
       "    <tr>\n",
       "      <th>0</th>\n",
       "      <td>1</td>\n",
       "      <td>2021-01-04</td>\n",
       "      <td>A1AP34</td>\n",
       "      <td>ADVANCE AUTO</td>\n",
       "      <td>DRN</td>\n",
       "      <td>NaN</td>\n",
       "      <td>R$</td>\n",
       "      <td>51.10</td>\n",
       "      <td>52.03</td>\n",
       "      <td>50.62</td>\n",
       "      <td>...</td>\n",
       "      <td>333558.7</td>\n",
       "      <td>0.00</td>\n",
       "      <td>0.0</td>\n",
       "      <td>NaN</td>\n",
       "      <td>1.0</td>\n",
       "      <td>0.0</td>\n",
       "      <td>BRA1APBDR001</td>\n",
       "      <td>105.0</td>\n",
       "      <td>NaN</td>\n",
       "      <td>acoes</td>\n",
       "    </tr>\n",
       "    <tr>\n",
       "      <th>1</th>\n",
       "      <td>1</td>\n",
       "      <td>2021-01-04</td>\n",
       "      <td>BOVVM116</td>\n",
       "      <td>BOVVE  FM</td>\n",
       "      <td>CI</td>\n",
       "      <td>0.0</td>\n",
       "      <td>R$</td>\n",
       "      <td>1.07</td>\n",
       "      <td>1.07</td>\n",
       "      <td>1.07</td>\n",
       "      <td>...</td>\n",
       "      <td>19274.9</td>\n",
       "      <td>116.00</td>\n",
       "      <td>0.0</td>\n",
       "      <td>2021-01-18</td>\n",
       "      <td>1.0</td>\n",
       "      <td>0.0</td>\n",
       "      <td>BRBOVVCTF009</td>\n",
       "      <td>100.0</td>\n",
       "      <td>PUT</td>\n",
       "      <td>opcoes</td>\n",
       "    </tr>\n",
       "    <tr>\n",
       "      <th>2</th>\n",
       "      <td>1</td>\n",
       "      <td>2021-01-04</td>\n",
       "      <td>BOVVM118</td>\n",
       "      <td>BOVVE  FM</td>\n",
       "      <td>CI</td>\n",
       "      <td>0.0</td>\n",
       "      <td>R$</td>\n",
       "      <td>1.52</td>\n",
       "      <td>1.52</td>\n",
       "      <td>1.52</td>\n",
       "      <td>...</td>\n",
       "      <td>24110.2</td>\n",
       "      <td>118.00</td>\n",
       "      <td>0.0</td>\n",
       "      <td>2021-01-18</td>\n",
       "      <td>1.0</td>\n",
       "      <td>0.0</td>\n",
       "      <td>BRBOVVCTF009</td>\n",
       "      <td>100.0</td>\n",
       "      <td>PUT</td>\n",
       "      <td>opcoes</td>\n",
       "    </tr>\n",
       "    <tr>\n",
       "      <th>3</th>\n",
       "      <td>1</td>\n",
       "      <td>2021-01-04</td>\n",
       "      <td>MULTM225</td>\n",
       "      <td>MULTE    /EJ</td>\n",
       "      <td>ON      N2</td>\n",
       "      <td>0.0</td>\n",
       "      <td>R$</td>\n",
       "      <td>0.50</td>\n",
       "      <td>0.50</td>\n",
       "      <td>0.50</td>\n",
       "      <td>...</td>\n",
       "      <td>50.0</td>\n",
       "      <td>22.11</td>\n",
       "      <td>0.0</td>\n",
       "      <td>2021-01-18</td>\n",
       "      <td>1.0</td>\n",
       "      <td>0.0</td>\n",
       "      <td>BRMULTACNOR5</td>\n",
       "      <td>127.0</td>\n",
       "      <td>PUT</td>\n",
       "      <td>opcoes</td>\n",
       "    </tr>\n",
       "    <tr>\n",
       "      <th>4</th>\n",
       "      <td>1</td>\n",
       "      <td>2021-01-04</td>\n",
       "      <td>SAPR4T</td>\n",
       "      <td>SANEPAR</td>\n",
       "      <td>PN  EJ  N2</td>\n",
       "      <td>91.0</td>\n",
       "      <td>R$</td>\n",
       "      <td>5.11</td>\n",
       "      <td>5.12</td>\n",
       "      <td>5.02</td>\n",
       "      <td>...</td>\n",
       "      <td>2030.5</td>\n",
       "      <td>0.00</td>\n",
       "      <td>0.0</td>\n",
       "      <td>NaN</td>\n",
       "      <td>1.0</td>\n",
       "      <td>0.0</td>\n",
       "      <td>BRSAPRACNPR6</td>\n",
       "      <td>151.0</td>\n",
       "      <td>NaN</td>\n",
       "      <td>termo</td>\n",
       "    </tr>\n",
       "  </tbody>\n",
       "</table>\n",
       "<p>5 rows × 26 columns</p>\n",
       "</div>"
      ],
      "text/plain": [
       "   register_type        date      name       company  share_type  \\\n",
       "0              1  2021-01-04    A1AP34  ADVANCE AUTO         DRN   \n",
       "1              1  2021-01-04  BOVVM116     BOVVE  FM          CI   \n",
       "2              1  2021-01-04  BOVVM118     BOVVE  FM          CI   \n",
       "3              1  2021-01-04  MULTM225  MULTE    /EJ  ON      N2   \n",
       "4              1  2021-01-04    SAPR4T       SANEPAR  PN  EJ  N2   \n",
       "\n",
       "   forward_market_deadline currency  open_price  max_price  min_price  ...  \\\n",
       "0                      NaN       R$       51.10      52.03      50.62  ...   \n",
       "1                      0.0       R$        1.07       1.07       1.07  ...   \n",
       "2                      0.0       R$        1.52       1.52       1.52  ...   \n",
       "3                      0.0       R$        0.50       0.50       0.50  ...   \n",
       "4                     91.0       R$        5.11       5.12       5.02  ...   \n",
       "\n",
       "     volume  exercise_price  price_correction_indicator  expiration_date  \\\n",
       "0  333558.7            0.00                         0.0              NaN   \n",
       "1   19274.9          116.00                         0.0       2021-01-18   \n",
       "2   24110.2          118.00                         0.0       2021-01-18   \n",
       "3      50.0           22.11                         0.0       2021-01-18   \n",
       "4    2030.5            0.00                         0.0              NaN   \n",
       "\n",
       "   price_factor  exercise_price_points     isin_code  \\\n",
       "0           1.0                    0.0  BRA1APBDR001   \n",
       "1           1.0                    0.0  BRBOVVCTF009   \n",
       "2           1.0                    0.0  BRBOVVCTF009   \n",
       "3           1.0                    0.0  BRMULTACNOR5   \n",
       "4           1.0                    0.0  BRSAPRACNPR6   \n",
       "\n",
       "   distribution_share_number  type  folder  \n",
       "0                      105.0   NaN   acoes  \n",
       "1                      100.0   PUT  opcoes  \n",
       "2                      100.0   PUT  opcoes  \n",
       "3                      127.0   PUT  opcoes  \n",
       "4                      151.0   NaN   termo  \n",
       "\n",
       "[5 rows x 26 columns]"
      ]
     },
     "execution_count": 5,
     "metadata": {},
     "output_type": "execute_result"
    }
   ],
   "source": [
    "b3_prices.head()"
   ]
  },
  {
   "cell_type": "code",
   "execution_count": 6,
   "id": "213d228d-3708-4d96-8696-bd1806b13730",
   "metadata": {},
   "outputs": [
    {
     "data": {
      "text/plain": [
       "Index(['register_type', 'date', 'name', 'company', 'share_type',\n",
       "       'forward_market_deadline', 'currency', 'open_price', 'max_price',\n",
       "       'min_price', 'average_price', 'close_price', 'best_buy_price',\n",
       "       'best_sell_price', 'transactions', 'quantity', 'volume',\n",
       "       'exercise_price', 'price_correction_indicator', 'expiration_date',\n",
       "       'price_factor', 'exercise_price_points', 'isin_code',\n",
       "       'distribution_share_number', 'type', 'folder'],\n",
       "      dtype='object')"
      ]
     },
     "execution_count": 6,
     "metadata": {},
     "output_type": "execute_result"
    }
   ],
   "source": [
    "b3_prices.columns"
   ]
  },
  {
   "cell_type": "code",
   "execution_count": 7,
   "id": "edd2cf11-7929-4480-8712-910f26bf9703",
   "metadata": {},
   "outputs": [],
   "source": [
    "b3_prices[\"date\"] = pd.to_datetime(b3_prices[\"date\"])"
   ]
  },
  {
   "cell_type": "markdown",
   "id": "1756d962-97e7-4910-b9b4-ce98c6f5595a",
   "metadata": {},
   "source": [
    "## Filtragem dos campos e seleção apenas das cotas de ações\n",
    "___"
   ]
  },
  {
   "cell_type": "code",
   "execution_count": 8,
   "id": "5f667544-6097-42d6-9f14-ba4e3df7f48e",
   "metadata": {},
   "outputs": [],
   "source": [
    "cols = {\n",
    "    \"name\": \"id\",\n",
    "    \"folder\": \"type\",\n",
    "    \"date\": \"date\",\n",
    "    \"close_price\": \"close\",\n",
    "}\n",
    "\n",
    "raw_prices = b3_prices[cols.keys()].rename(columns=cols)"
   ]
  },
  {
   "cell_type": "code",
   "execution_count": 9,
   "id": "3c7758be-8de3-48b1-a861-c35587f28630",
   "metadata": {},
   "outputs": [
    {
     "data": {
      "text/html": [
       "<div>\n",
       "<style scoped>\n",
       "    .dataframe tbody tr th:only-of-type {\n",
       "        vertical-align: middle;\n",
       "    }\n",
       "\n",
       "    .dataframe tbody tr th {\n",
       "        vertical-align: top;\n",
       "    }\n",
       "\n",
       "    .dataframe thead th {\n",
       "        text-align: right;\n",
       "    }\n",
       "</style>\n",
       "<table border=\"1\" class=\"dataframe\">\n",
       "  <thead>\n",
       "    <tr style=\"text-align: right;\">\n",
       "      <th></th>\n",
       "      <th>id</th>\n",
       "      <th>type</th>\n",
       "      <th>date</th>\n",
       "      <th>close</th>\n",
       "    </tr>\n",
       "  </thead>\n",
       "  <tbody>\n",
       "    <tr>\n",
       "      <th>0</th>\n",
       "      <td>A1AP34</td>\n",
       "      <td>acoes</td>\n",
       "      <td>2021-01-04</td>\n",
       "      <td>51.90</td>\n",
       "    </tr>\n",
       "    <tr>\n",
       "      <th>1</th>\n",
       "      <td>BOVVM116</td>\n",
       "      <td>opcoes</td>\n",
       "      <td>2021-01-04</td>\n",
       "      <td>1.07</td>\n",
       "    </tr>\n",
       "    <tr>\n",
       "      <th>2</th>\n",
       "      <td>BOVVM118</td>\n",
       "      <td>opcoes</td>\n",
       "      <td>2021-01-04</td>\n",
       "      <td>1.52</td>\n",
       "    </tr>\n",
       "    <tr>\n",
       "      <th>3</th>\n",
       "      <td>MULTM225</td>\n",
       "      <td>opcoes</td>\n",
       "      <td>2021-01-04</td>\n",
       "      <td>0.50</td>\n",
       "    </tr>\n",
       "    <tr>\n",
       "      <th>4</th>\n",
       "      <td>SAPR4T</td>\n",
       "      <td>termo</td>\n",
       "      <td>2021-01-04</td>\n",
       "      <td>5.03</td>\n",
       "    </tr>\n",
       "  </tbody>\n",
       "</table>\n",
       "</div>"
      ],
      "text/plain": [
       "         id    type       date  close\n",
       "0    A1AP34   acoes 2021-01-04  51.90\n",
       "1  BOVVM116  opcoes 2021-01-04   1.07\n",
       "2  BOVVM118  opcoes 2021-01-04   1.52\n",
       "3  MULTM225  opcoes 2021-01-04   0.50\n",
       "4    SAPR4T   termo 2021-01-04   5.03"
      ]
     },
     "execution_count": 9,
     "metadata": {},
     "output_type": "execute_result"
    }
   ],
   "source": [
    "raw_prices.head()"
   ]
  },
  {
   "cell_type": "code",
   "execution_count": 10,
   "id": "922989a9-13df-48d1-bd75-e0e6eb99cffe",
   "metadata": {},
   "outputs": [],
   "source": [
    "stocks = raw_prices[raw_prices[\"type\"] == \"acoes\"]"
   ]
  },
  {
   "cell_type": "code",
   "execution_count": 11,
   "id": "e415597a-d570-437d-90ad-c9975313ab7d",
   "metadata": {},
   "outputs": [
    {
     "name": "stdout",
     "output_type": "stream",
     "text": [
      "2125 ações encontradas\n"
     ]
    }
   ],
   "source": [
    "print(f\"{stocks['id'].unique().shape[0]} ações encontradas\")"
   ]
  },
  {
   "cell_type": "code",
   "execution_count": 12,
   "id": "b7a36e67-f1a0-477d-b637-c480987d422c",
   "metadata": {},
   "outputs": [],
   "source": [
    "stocks.to_parquet(f\"{RES_PATH}/stock_prices.snappy.parquet\")"
   ]
  },
  {
   "cell_type": "code",
   "execution_count": null,
   "id": "66338f54-51e8-45d3-8b68-0b260f8ee2f2",
   "metadata": {},
   "outputs": [],
   "source": []
  }
 ],
 "metadata": {
  "kernelspec": {
   "display_name": "data-science",
   "language": "python",
   "name": "data-science"
  },
  "language_info": {
   "codemirror_mode": {
    "name": "ipython",
    "version": 3
   },
   "file_extension": ".py",
   "mimetype": "text/x-python",
   "name": "python",
   "nbconvert_exporter": "python",
   "pygments_lexer": "ipython3",
   "version": "3.8.13"
  }
 },
 "nbformat": 4,
 "nbformat_minor": 5
}
